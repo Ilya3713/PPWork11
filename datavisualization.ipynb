In [1]:
import pandas as pd
import matplotlib.pyplot as plt
from pylab import rcParams
rcParams['figure.figsize'] = 12,9
In [2]:
file_path = 'C:/Users/test/Desktop/name'
